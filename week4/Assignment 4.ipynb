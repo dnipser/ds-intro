{
 "cells": [
  {
   "cell_type": "markdown",
   "metadata": {},
   "source": [
    "---\n",
    "\n",
    "_You are currently looking at **version 1.1** of this notebook. To download notebooks and datafiles, as well as get help on Jupyter notebooks in the Coursera platform, visit the [Jupyter Notebook FAQ](https://www.coursera.org/learn/python-data-analysis/resources/0dhYG) course resource._\n",
    "\n",
    "---"
   ]
  },
  {
   "cell_type": "code",
   "execution_count": 1,
   "metadata": {},
   "outputs": [],
   "source": [
    "import pandas as pd\n",
    "import numpy as np\n",
    "from scipy.stats import ttest_ind"
   ]
  },
  {
   "cell_type": "markdown",
   "metadata": {},
   "source": [
    "# Assignment 4 - Hypothesis Testing\n",
    "This assignment requires more individual learning than previous assignments - you are encouraged to check out the [pandas documentation](http://pandas.pydata.org/pandas-docs/stable/) to find functions or methods you might not have used yet, or ask questions on [Stack Overflow](http://stackoverflow.com/) and tag them as pandas and python related. And of course, the discussion forums are open for interaction with your peers and the course staff.\n",
    "\n",
    "Definitions:\n",
    "* A _quarter_ is a specific three month period, Q1 is January through March, Q2 is April through June, Q3 is July through September, Q4 is October through December.\n",
    "* A _recession_ is defined as starting with two consecutive quarters of GDP decline, and ending with two consecutive quarters of GDP growth.\n",
    "* A _recession bottom_ is the quarter within a recession which had the lowest GDP.\n",
    "* A _university town_ is a city which has a high percentage of university students compared to the total population of the city.\n",
    "\n",
    "**Hypothesis**: University towns have their mean housing prices less effected by recessions. Run a t-test to compare the ratio of the mean price of houses in university towns the quarter before the recession starts compared to the recession bottom. (`price_ratio=quarter_before_recession/recession_bottom`)\n",
    "\n",
    "The following data files are available for this assignment:\n",
    "* From the [Zillow research data site](http://www.zillow.com/research/data/) there is housing data for the United States. In particular the datafile for [all homes at a city level](http://files.zillowstatic.com/research/public/City/City_Zhvi_AllHomes.csv), ```City_Zhvi_AllHomes.csv```, has median home sale prices at a fine grained level.\n",
    "* From the Wikipedia page on college towns is a list of [university towns in the United States](https://en.wikipedia.org/wiki/List_of_college_towns#College_towns_in_the_United_States) which has been copy and pasted into the file ```university_towns.txt```.\n",
    "* From Bureau of Economic Analysis, US Department of Commerce, the [GDP over time](http://www.bea.gov/national/index.htm#gdp) of the United States in current dollars (use the chained value in 2009 dollars), in quarterly intervals, in the file ```gdplev.xls```. For this assignment, only look at GDP data from the first quarter of 2000 onward.\n",
    "\n",
    "Each function in this assignment below is worth 10%, with the exception of ```run_ttest()```, which is worth 50%."
   ]
  },
  {
   "cell_type": "code",
   "execution_count": 2,
   "metadata": {
    "collapsed": false,
    "jupyter": {
     "outputs_hidden": false
    }
   },
   "outputs": [],
   "source": [
    "# Use this dictionary to map state names to two letter acronyms\n",
    "states = {'OH': 'Ohio', 'KY': 'Kentucky', 'AS': 'American Samoa', 'NV': 'Nevada', 'WY': 'Wyoming', 'NA': 'National', 'AL': 'Alabama', 'MD': 'Maryland', 'AK': 'Alaska', 'UT': 'Utah', 'OR': 'Oregon', 'MT': 'Montana', 'IL': 'Illinois', 'TN': 'Tennessee', 'DC': 'District of Columbia', 'VT': 'Vermont', 'ID': 'Idaho', 'AR': 'Arkansas', 'ME': 'Maine', 'WA': 'Washington', 'HI': 'Hawaii', 'WI': 'Wisconsin', 'MI': 'Michigan', 'IN': 'Indiana', 'NJ': 'New Jersey', 'AZ': 'Arizona', 'GU': 'Guam', 'MS': 'Mississippi', 'PR': 'Puerto Rico', 'NC': 'North Carolina', 'TX': 'Texas', 'SD': 'South Dakota', 'MP': 'Northern Mariana Islands', 'IA': 'Iowa', 'MO': 'Missouri', 'CT': 'Connecticut', 'WV': 'West Virginia', 'SC': 'South Carolina', 'LA': 'Louisiana', 'KS': 'Kansas', 'NY': 'New York', 'NE': 'Nebraska', 'OK': 'Oklahoma', 'FL': 'Florida', 'CA': 'California', 'CO': 'Colorado', 'PA': 'Pennsylvania', 'DE': 'Delaware', 'NM': 'New Mexico', 'RI': 'Rhode Island', 'MN': 'Minnesota', 'VI': 'Virgin Islands', 'NH': 'New Hampshire', 'MA': 'Massachusetts', 'GA': 'Georgia', 'ND': 'North Dakota', 'VA': 'Virginia'}"
   ]
  },
  {
   "cell_type": "code",
   "execution_count": 3,
   "metadata": {
    "collapsed": false,
    "jupyter": {
     "outputs_hidden": false
    }
   },
   "outputs": [],
   "source": [
    "def get_list_of_university_towns():\n",
    "    '''Returns a DataFrame of towns and the states they are in from the \n",
    "    university_towns.txt list. The format of the DataFrame should be:\n",
    "    DataFrame( [ [\"Michigan\", \"Ann Arbor\"], [\"Michigan\", \"Yipsilanti\"] ], \n",
    "    columns=[\"State\", \"RegionName\"]  )\n",
    "    \n",
    "    The following cleaning needs to be done:\n",
    "\n",
    "    1. For \"State\", removing characters from \"[\" to the end.\n",
    "    2. For \"RegionName\", when applicable, removing every character from \" (\" to the end.\n",
    "    3. Depending on how you read the data, you may need to remove newline character '\\n'. '''\n",
    "    \n",
    "    towns_dict = {}\n",
    "    state_delimiter = '[edit]'\n",
    "    region_delimiter = '('\n",
    "    current_state = ''\n",
    "    with open('../resources/university_towns.txt') as reader:\n",
    "        for line in reader:\n",
    "            if state_delimiter in line:\n",
    "                state = line[:line.index(state_delimiter)]\n",
    "                current_state = state\n",
    "                towns_dict[current_state] = []\n",
    "            else:\n",
    "                if region_delimiter in line:\n",
    "                    line = line[:line.index(region_delimiter)]\n",
    "                \n",
    "                line = line.strip()\n",
    "#                 line = line.replace(':', '')\n",
    "                line = line.replace('\\n', '')\n",
    "\n",
    "                towns_in_state = towns_dict[current_state]\n",
    "                towns_in_state.append(line)\n",
    "\n",
    "    data = []\n",
    "    for state in towns_dict.keys():\n",
    "        for town in towns_dict[state]:\n",
    "            data.append((state, town))\n",
    "\n",
    "    towns = pd.DataFrame(data, columns=['State', 'RegionName'])                        \n",
    "    return towns"
   ]
  },
  {
   "cell_type": "code",
   "execution_count": 4,
   "metadata": {},
   "outputs": [],
   "source": [
    "def get_gdp_data():\n",
    "    gdp_data = pd.read_excel(open('../resources/gdplev.xls', 'rb'),\n",
    "                       sheet_name='Sheet1', index_col=None, header=None, skiprows=220, nrows=66, usecols=[4, 6])\n",
    "\n",
    "    gdp_data = gdp_data.rename(columns={4: 'Quarter', 6: 'GDP'})\n",
    "    #gdp_data = gdp_data.set_index('Quarter')\n",
    "    return gdp_data"
   ]
  },
  {
   "cell_type": "code",
   "execution_count": 10,
   "metadata": {},
   "outputs": [
    {
     "data": {
      "image/png": "[encoded data removed]",
      "text/plain": [
       "<Figure size 432x288 with 1 Axes>"
      ]
     },
     "metadata": {
      "needs_background": "light"
     },
     "output_type": "display_data"
    }
   ],
   "source": [
    "import matplotlib.pyplot as plt\n",
    "\n",
    "gdp_data = get_gdp_data()\n",
    "gdp_data.plot(kind='line', x='Quarter', y='GDP', color='green')\n",
    "plt.show()"
   ]
  },
  {
   "cell_type": "code",
   "execution_count": 11,
   "metadata": {},
   "outputs": [],
   "source": [
    "def get_recession_start_idx(gdp_values):\n",
    "    recession_start_idx = -1\n",
    "    for idx in range(len(gdp_values) - 2):\n",
    "        if gdp_values[idx] > gdp_values[idx + 1] and gdp_values[idx + 1] > gdp_values[idx + 2]:\n",
    "            recession_start_idx = idx + 1\n",
    "            break\n",
    "    return recession_start_idx"
   ]
  },
  {
   "cell_type": "code",
   "execution_count": 12,
   "metadata": {},
   "outputs": [],
   "source": [
    "def get_recession_end_idx(gdp_values):\n",
    "    recession_start_idx = get_recession_start_idx(gdp_values)\n",
    "\n",
    "    recession_end_idx = -1\n",
    "    for idx in range(recession_start_idx, len(gdp_values) - 2):\n",
    "        if gdp_values[idx] < gdp_values[idx + 1] and gdp_values[idx + 1] < gdp_values[idx + 2]:\n",
    "            recession_end_idx = idx + 2\n",
    "            break\n",
    "\n",
    "    return recession_end_idx"
   ]
  },
  {
   "cell_type": "code",
   "execution_count": 13,
   "metadata": {
    "collapsed": false,
    "jupyter": {
     "outputs_hidden": false
    }
   },
   "outputs": [
    {
     "data": {
      "text/plain": [
       "'2008q3'"
      ]
     },
     "execution_count": 13,
     "metadata": {},
     "output_type": "execute_result"
    }
   ],
   "source": [
    "def get_recession_start():\n",
    "    '''Returns the year and quarter of the recession start time as a \n",
    "    string value in a format such as 2005q3'''\n",
    "\n",
    "    gdp_data = get_gdp_data()\n",
    "    gdp_series_arr = gdp_data['GDP'].values\n",
    "\n",
    "    recession_start_idx = get_recession_start_idx(gdp_series_arr)\n",
    "    recession_start = gdp_data.iloc[recession_start_idx]\n",
    "    return recession_start['Quarter']\n",
    "\n",
    "get_recession_start()"
   ]
  },
  {
   "cell_type": "code",
   "execution_count": 14,
   "metadata": {
    "collapsed": false,
    "jupyter": {
     "outputs_hidden": false
    }
   },
   "outputs": [
    {
     "data": {
      "text/plain": [
       "'2009q4'"
      ]
     },
     "execution_count": 14,
     "metadata": {},
     "output_type": "execute_result"
    }
   ],
   "source": [
    "def get_recession_end():\n",
    "    '''Returns the year and quarter of the recession end time as a \n",
    "    string value in a format such as 2005q3'''\n",
    "       \n",
    "    gdp_data = get_gdp_data()\n",
    "    gdp_series_arr = gdp_data['GDP'].values\n",
    "\n",
    "    recession_end_idx = get_recession_end_idx(gdp_series_arr)\n",
    "    recession_end = gdp_data.iloc[recession_end_idx]\n",
    "    return recession_end['Quarter']\n",
    "\n",
    "get_recession_end()"
   ]
  },
  {
   "cell_type": "code",
   "execution_count": 15,
   "metadata": {
    "collapsed": false,
    "jupyter": {
     "outputs_hidden": false
    }
   },
   "outputs": [
    {
     "data": {
      "text/plain": [
       "'2009q2'"
      ]
     },
     "execution_count": 15,
     "metadata": {},
     "output_type": "execute_result"
    }
   ],
   "source": [
    "def get_recession_bottom():\n",
    "    '''Returns the year and quarter of the recession bottom time as a \n",
    "    string value in a format such as 2005q3'''\n",
    "\n",
    "    gdp_data = get_gdp_data()\n",
    "    gdp_series_arr = gdp_data['GDP'].values\n",
    "\n",
    "    recession_start_idx = get_recession_start_idx(gdp_series_arr)\n",
    "    recession_end_idx = get_recession_end_idx(gdp_series_arr)\n",
    "\n",
    "    recession = gdp_data.iloc[recession_start_idx : recession_end_idx + 1]\n",
    "    bottom_index = recession['GDP'].idxmin()\n",
    "    recession_bottom = gdp_data.iloc[bottom_index]\n",
    "\n",
    "    return recession_bottom['Quarter']\n",
    "\n",
    "get_recession_bottom()"
   ]
  },
  {
   "cell_type": "code",
   "execution_count": 93,
   "metadata": {
    "collapsed": false,
    "jupyter": {
     "outputs_hidden": false
    }
   },
   "outputs": [
    {
     "data": {
      "text/plain": [
       "202266.66666666666"
      ]
     },
     "execution_count": 93,
     "metadata": {},
     "output_type": "execute_result"
    }
   ],
   "source": [
    "def convert_housing_data_to_quarters():\n",
    "    '''Converts the housing data to quarters and returns it as mean \n",
    "    values in a dataframe. This dataframe should be a dataframe with\n",
    "    columns for 2000q1 through 2016q3, and should have a multi-index\n",
    "    in the shape of [\"State\",\"RegionName\"].\n",
    "    \n",
    "    Note: Quarters are defined in the assignment description, they are\n",
    "    not arbitrary three month periods.\n",
    "    \n",
    "    The resulting dataframe should have 67 columns, and 10,730 rows.\n",
    "    '''\n",
    "    \n",
    "    index_columns = [1, 2]\n",
    "    prices_columns = [i for i in range(51, 251)]\n",
    "    columns_to_select = index_columns + prices_columns\n",
    "    \n",
    "    house_prices = pd.read_csv('../resources/City_Zhvi_AllHomes.csv', index_col=None, usecols=columns_to_select)\n",
    "    for year in range(2000, 2017):\n",
    "        for month in range(1, 13, 3):\n",
    "            first_month = '{}-{}'.format(year, str(month).zfill(2))\n",
    "            second_month = '{}-{}'.format(year, str(month + 1).zfill(2))\n",
    "            third_month = '{}-{}'.format(year, str(month + 2).zfill(2))\n",
    "\n",
    "            existing_columns = []\n",
    "            if first_month in house_prices.columns:\n",
    "                existing_columns.append(first_month)\n",
    "            if second_month in house_prices.columns:\n",
    "                existing_columns.append(second_month)\n",
    "            if third_month in house_prices.columns:\n",
    "                existing_columns.append(third_month)\n",
    "\n",
    "            if len(existing_columns) > 0:\n",
    "                quarter = '{}q{}'.format(year, int(month / 3) + 1)\n",
    "                quarter_df = house_prices[existing_columns]\n",
    "                house_prices[quarter] = quarter_df.mean(axis=1)\n",
    "                house_prices = house_prices.drop(existing_columns, axis=1)\n",
    "\n",
    "    house_prices['State'] = house_prices['State'].apply(lambda val : states[val])\n",
    "    house_prices = house_prices.set_index(['State', 'RegionName'])\n",
    "\n",
    "    return house_prices\n",
    "\n",
    "convert_housing_data_to_quarters()"
   ]
  },
  {
   "cell_type": "code",
   "execution_count": 101,
   "metadata": {
    "collapsed": false,
    "jupyter": {
     "outputs_hidden": false
    }
   },
   "outputs": [
    {
     "data": {
      "text/plain": [
       "(True, 0.002099659657952052, 'university town')"
      ]
     },
     "execution_count": 101,
     "metadata": {},
     "output_type": "execute_result"
    }
   ],
   "source": [
    "def run_ttest():\n",
    "    '''First creates new data showing the decline or growth of housing prices\n",
    "    between the recession start and the recession bottom. Then runs a ttest\n",
    "    comparing the university town values to the non-university towns values, \n",
    "    return whether the alternative hypothesis (that the two groups are the same)\n",
    "    is true or not as well as the p-value of the confidence. \n",
    "    \n",
    "    Return the tuple (different, p, better) where different=True if the t-test is\n",
    "    True at a p<0.01 (we reject the null hypothesis), or different=False if \n",
    "    otherwise (we cannot reject the null hypothesis). The variable p should\n",
    "    be equal to the exact p value returned from scipy.stats.ttest_ind(). The\n",
    "    value for better should be either \"university town\" or \"non-university town\"\n",
    "    depending on which has a lower mean price ratio (which is equivilent to a\n",
    "    reduced market loss).'''\n",
    "    \n",
    "    unitowns = get_list_of_university_towns()\n",
    "    bottom = get_recession_bottom()\n",
    "    start = get_recession_start()\n",
    "    hdata = convert_housing_data_to_quarters()\n",
    "    bstart = hdata.columns[hdata.columns.get_loc(start) - 1]\n",
    "    hdata['ratio'] = hdata[bottom] - hdata[bstart]\n",
    "    \n",
    "\n",
    "    hdata = hdata[[bottom, bstart, 'ratio']]\n",
    "    hdata = hdata.reset_index()\n",
    "    \n",
    "    unitowns_hdata = pd.merge(hdata, unitowns, how='inner', on=['State','RegionName'])\n",
    "    unitowns_hdata['uni'] = True\n",
    "\n",
    "    hdata2 = pd.merge(hdata, unitowns_hdata, how='outer', on=['State','RegionName', bottom, bstart, 'ratio'])\n",
    "    hdata2['uni'] = hdata2['uni'].fillna(False)\n",
    "\n",
    "    ut = hdata2[hdata2['uni'] == True]\n",
    "    not_ut = hdata2[hdata2['uni'] == False]\n",
    "\n",
    "    t,p = ttest_ind(ut['ratio'].dropna(),not_ut['ratio'].dropna())\n",
    "    \n",
    "    different = True if p < 0.01 else False\n",
    "\n",
    "    better = \"non-university town\" if ut['ratio'].mean() < not_ut['ratio'].mean() else \"university town\"\n",
    "\n",
    "    return different, p, better\n",
    "\n",
    "run_ttest()"
   ]
  },
  {
   "cell_type": "code",
   "execution_count": null,
   "metadata": {},
   "outputs": [],
   "source": []
  }
 ],
 "metadata": {
  "coursera": {
   "course_slug": "python-data-analysis",
   "graded_item_id": "Il9Fx",
   "launcher_item_id": "TeDW0",
   "part_id": "WGlun"
  },
  "kernelspec": {
   "display_name": "Python 3",
   "language": "python",
   "name": "python3"
  },
  "language_info": {
   "codemirror_mode": {
    "name": "ipython",
    "version": 3
   },
   "file_extension": ".py",
   "mimetype": "text/x-python",
   "name": "python",
   "nbconvert_exporter": "python",
   "pygments_lexer": "ipython3",
   "version": "3.7.4"
  }
 },
 "nbformat": 4,
 "nbformat_minor": 4
}
