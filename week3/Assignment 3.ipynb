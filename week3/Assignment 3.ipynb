{
 "cells": [
  {
   "cell_type": "markdown",
   "metadata": {},
   "source": [
    "---\n",
    "\n",
    "_You are currently looking at **version 1.5** of this notebook. To download notebooks and datafiles, as well as get help on Jupyter notebooks in the Coursera platform, visit the [Jupyter Notebook FAQ](https://www.coursera.org/learn/python-data-analysis/resources/0dhYG) course resource._\n",
    "\n",
    "---"
   ]
  },
  {
   "cell_type": "markdown",
   "metadata": {},
   "source": [
    "# Assignment 3 - More Pandas\n",
    "This assignment requires more individual learning then the last one did - you are encouraged to check out the [pandas documentation](http://pandas.pydata.org/pandas-docs/stable/) to find functions or methods you might not have used yet, or ask questions on [Stack Overflow](http://stackoverflow.com/) and tag them as pandas and python related. And of course, the discussion forums are open for interaction with your peers and the course staff."
   ]
  },
  {
   "cell_type": "markdown",
   "metadata": {},
   "source": [
    "### Question 1 (20%)\n",
    "Load the energy data from the file `Energy Indicators.xls`, which is a list of indicators of [energy supply and renewable electricity production](Energy%20Indicators.xls) from the [United Nations](http://unstats.un.org/unsd/environment/excel_file_tables/2013/Energy%20Indicators.xls) for the year 2013, and should be put into a DataFrame with the variable name of **energy**.\n",
    "\n",
    "Keep in mind that this is an Excel file, and not a comma separated values file. Also, make sure to exclude the footer and header information from the datafile. The first two columns are unneccessary, so you should get rid of them, and you should change the column labels so that the columns are:\n",
    "\n",
    "`['Country', 'Energy Supply', 'Energy Supply per Capita', '% Renewable']`\n",
    "\n",
    "Convert `Energy Supply` to gigajoules (there are 1,000,000 gigajoules in a petajoule). For all countries which have missing data (e.g. data with \"...\") make sure this is reflected as `np.NaN` values.\n",
    "\n",
    "Rename the following list of countries (for use in later questions):\n",
    "\n",
    "```\"Republic of Korea\": \"South Korea\",\n",
    "\"United States of America\": \"United States\",\n",
    "\"United Kingdom of Great Britain and Northern Ireland\": \"United Kingdom\",\n",
    "\"China, Hong Kong Special Administrative Region\": \"Hong Kong\"```\n",
    "\n",
    "There are also several countries with numbers and/or parenthesis in their name. Be sure to remove these, \n",
    "\n",
    "e.g. \n",
    "\n",
    "`'Bolivia (Plurinational State of)'` should be `'Bolivia'`, \n",
    "\n",
    "`'Switzerland17'` should be `'Switzerland'`.\n",
    "\n",
    "<br>\n",
    "\n",
    "Next, load the GDP data from the file `world_bank.csv`, which is a csv containing countries' GDP from 1960 to 2015 from [World Bank](http://data.worldbank.org/indicator/NY.GDP.MKTP.CD). Call this DataFrame **GDP**. \n",
    "\n",
    "Make sure to skip the header, and rename the following list of countries:\n",
    "\n",
    "```\"Korea, Rep.\": \"South Korea\", \n",
    "\"Iran, Islamic Rep.\": \"Iran\",\n",
    "\"Hong Kong SAR, China\": \"Hong Kong\"```\n",
    "\n",
    "<br>\n",
    "\n",
    "Finally, load the [Sciamgo Journal and Country Rank data for Energy Engineering and Power Technology](http://www.scimagojr.com/countryrank.php?category=2102) from the file `scimagojr-3.xlsx`, which ranks countries based on their journal contributions in the aforementioned area. Call this DataFrame **ScimEn**.\n",
    "\n",
    "Join the three datasets: GDP, Energy, and ScimEn into a new dataset (using the intersection of country names). Use only the last 10 years (2006-2015) of GDP data and only the top 15 countries by Scimagojr 'Rank' (Rank 1 through 15). \n",
    "\n",
    "The index of this DataFrame should be the name of the country, and the columns should be ['Rank', 'Documents', 'Citable documents', 'Citations', 'Self-citations',\n",
    "       'Citations per document', 'H index', 'Energy Supply',\n",
    "       'Energy Supply per Capita', '% Renewable', '2006', '2007', '2008',\n",
    "       '2009', '2010', '2011', '2012', '2013', '2014', '2015'].\n",
    "\n",
    "*This function should return a DataFrame with 20 columns and 15 entries.*"
   ]
  },
  {
   "cell_type": "code",
   "execution_count": 1,
   "metadata": {},
   "outputs": [],
   "source": [
    "import pandas as pd\n",
    "import numpy as np\n",
    "import re"
   ]
  },
  {
   "cell_type": "code",
   "execution_count": 17,
   "metadata": {
    "collapsed": false,
    "jupyter": {
     "outputs_hidden": false
    }
   },
   "outputs": [
    {
     "data": {
      "text/html": [
       "<div>\n",
       "<style scoped>\n",
       "    .dataframe tbody tr th:only-of-type {\n",
       "        vertical-align: middle;\n",
       "    }\n",
       "\n",
       "    .dataframe tbody tr th {\n",
       "        vertical-align: top;\n",
       "    }\n",
       "\n",
       "    .dataframe thead th {\n",
       "        text-align: right;\n",
       "    }\n",
       "</style>\n",
       "<table border=\"1\" class=\"dataframe\">\n",
       "  <thead>\n",
       "    <tr style=\"text-align: right;\">\n",
       "      <th></th>\n",
       "      <th>Rank</th>\n",
       "      <th>Documents</th>\n",
       "      <th>Citable documents</th>\n",
       "      <th>Citations</th>\n",
       "      <th>Self-citations</th>\n",
       "      <th>Citations per document</th>\n",
       "      <th>H index</th>\n",
       "      <th>Energy Supply</th>\n",
       "      <th>Energy Supply per Capita</th>\n",
       "      <th>% Renewable</th>\n",
       "      <th>2006</th>\n",
       "      <th>2007</th>\n",
       "      <th>2008</th>\n",
       "      <th>2009</th>\n",
       "      <th>2010</th>\n",
       "      <th>2011</th>\n",
       "      <th>2012</th>\n",
       "      <th>2013</th>\n",
       "      <th>2014</th>\n",
       "      <th>2015</th>\n",
       "    </tr>\n",
       "    <tr>\n",
       "      <th>Country</th>\n",
       "      <th></th>\n",
       "      <th></th>\n",
       "      <th></th>\n",
       "      <th></th>\n",
       "      <th></th>\n",
       "      <th></th>\n",
       "      <th></th>\n",
       "      <th></th>\n",
       "      <th></th>\n",
       "      <th></th>\n",
       "      <th></th>\n",
       "      <th></th>\n",
       "      <th></th>\n",
       "      <th></th>\n",
       "      <th></th>\n",
       "      <th></th>\n",
       "      <th></th>\n",
       "      <th></th>\n",
       "      <th></th>\n",
       "      <th></th>\n",
       "    </tr>\n",
       "  </thead>\n",
       "  <tbody>\n",
       "    <tr>\n",
       "      <th>China</th>\n",
       "      <td>1</td>\n",
       "      <td>127050</td>\n",
       "      <td>126767</td>\n",
       "      <td>597237</td>\n",
       "      <td>411683</td>\n",
       "      <td>4.70</td>\n",
       "      <td>138</td>\n",
       "      <td>1.271910e+11</td>\n",
       "      <td>93.0</td>\n",
       "      <td>19.754910</td>\n",
       "      <td>3.992330e+12</td>\n",
       "      <td>4.559040e+12</td>\n",
       "      <td>4.997780e+12</td>\n",
       "      <td>5.459250e+12</td>\n",
       "      <td>6.039660e+12</td>\n",
       "      <td>6.612490e+12</td>\n",
       "      <td>7.124980e+12</td>\n",
       "      <td>7.672450e+12</td>\n",
       "      <td>8.230120e+12</td>\n",
       "      <td>8.798000e+12</td>\n",
       "    </tr>\n",
       "    <tr>\n",
       "      <th>United States</th>\n",
       "      <td>2</td>\n",
       "      <td>96661</td>\n",
       "      <td>94747</td>\n",
       "      <td>792274</td>\n",
       "      <td>265436</td>\n",
       "      <td>8.20</td>\n",
       "      <td>230</td>\n",
       "      <td>9.083800e+10</td>\n",
       "      <td>286.0</td>\n",
       "      <td>11.570980</td>\n",
       "      <td>1.479230e+13</td>\n",
       "      <td>1.505540e+13</td>\n",
       "      <td>1.501150e+13</td>\n",
       "      <td>1.459480e+13</td>\n",
       "      <td>1.496440e+13</td>\n",
       "      <td>1.520400e+13</td>\n",
       "      <td>1.554220e+13</td>\n",
       "      <td>1.577370e+13</td>\n",
       "      <td>1.615660e+13</td>\n",
       "      <td>1.654860e+13</td>\n",
       "    </tr>\n",
       "    <tr>\n",
       "      <th>Japan</th>\n",
       "      <td>3</td>\n",
       "      <td>30504</td>\n",
       "      <td>30287</td>\n",
       "      <td>223024</td>\n",
       "      <td>61554</td>\n",
       "      <td>7.31</td>\n",
       "      <td>134</td>\n",
       "      <td>1.898400e+10</td>\n",
       "      <td>149.0</td>\n",
       "      <td>10.232820</td>\n",
       "      <td>5.496540e+12</td>\n",
       "      <td>5.617040e+12</td>\n",
       "      <td>5.558530e+12</td>\n",
       "      <td>5.251310e+12</td>\n",
       "      <td>5.498720e+12</td>\n",
       "      <td>5.473740e+12</td>\n",
       "      <td>5.569100e+12</td>\n",
       "      <td>5.644660e+12</td>\n",
       "      <td>5.642880e+12</td>\n",
       "      <td>5.669560e+12</td>\n",
       "    </tr>\n",
       "    <tr>\n",
       "      <th>United Kingdom</th>\n",
       "      <td>4</td>\n",
       "      <td>20944</td>\n",
       "      <td>20357</td>\n",
       "      <td>206091</td>\n",
       "      <td>37874</td>\n",
       "      <td>9.84</td>\n",
       "      <td>139</td>\n",
       "      <td>7.920000e+09</td>\n",
       "      <td>124.0</td>\n",
       "      <td>10.600470</td>\n",
       "      <td>2.419630e+12</td>\n",
       "      <td>2.482200e+12</td>\n",
       "      <td>2.470610e+12</td>\n",
       "      <td>2.367050e+12</td>\n",
       "      <td>2.403500e+12</td>\n",
       "      <td>2.450910e+12</td>\n",
       "      <td>2.479810e+12</td>\n",
       "      <td>2.533370e+12</td>\n",
       "      <td>2.605640e+12</td>\n",
       "      <td>2.666330e+12</td>\n",
       "    </tr>\n",
       "    <tr>\n",
       "      <th>Russian Federation</th>\n",
       "      <td>5</td>\n",
       "      <td>18534</td>\n",
       "      <td>18301</td>\n",
       "      <td>34266</td>\n",
       "      <td>12422</td>\n",
       "      <td>1.85</td>\n",
       "      <td>57</td>\n",
       "      <td>3.070900e+10</td>\n",
       "      <td>214.0</td>\n",
       "      <td>17.288680</td>\n",
       "      <td>1.385790e+12</td>\n",
       "      <td>1.504070e+12</td>\n",
       "      <td>1.583000e+12</td>\n",
       "      <td>1.459200e+12</td>\n",
       "      <td>1.524920e+12</td>\n",
       "      <td>1.589940e+12</td>\n",
       "      <td>1.645880e+12</td>\n",
       "      <td>1.666930e+12</td>\n",
       "      <td>1.678710e+12</td>\n",
       "      <td>1.616150e+12</td>\n",
       "    </tr>\n",
       "    <tr>\n",
       "      <th>Canada</th>\n",
       "      <td>6</td>\n",
       "      <td>17899</td>\n",
       "      <td>17620</td>\n",
       "      <td>215003</td>\n",
       "      <td>40930</td>\n",
       "      <td>12.01</td>\n",
       "      <td>149</td>\n",
       "      <td>1.043100e+10</td>\n",
       "      <td>296.0</td>\n",
       "      <td>61.945430</td>\n",
       "      <td>1.564470e+12</td>\n",
       "      <td>1.596740e+12</td>\n",
       "      <td>1.612710e+12</td>\n",
       "      <td>1.565140e+12</td>\n",
       "      <td>1.613410e+12</td>\n",
       "      <td>1.664090e+12</td>\n",
       "      <td>1.693130e+12</td>\n",
       "      <td>1.730690e+12</td>\n",
       "      <td>1.773490e+12</td>\n",
       "      <td>1.792610e+12</td>\n",
       "    </tr>\n",
       "    <tr>\n",
       "      <th>Germany</th>\n",
       "      <td>7</td>\n",
       "      <td>17027</td>\n",
       "      <td>16831</td>\n",
       "      <td>140566</td>\n",
       "      <td>27426</td>\n",
       "      <td>8.26</td>\n",
       "      <td>126</td>\n",
       "      <td>1.326100e+10</td>\n",
       "      <td>165.0</td>\n",
       "      <td>17.901530</td>\n",
       "      <td>3.332890e+12</td>\n",
       "      <td>3.441560e+12</td>\n",
       "      <td>3.478810e+12</td>\n",
       "      <td>3.283340e+12</td>\n",
       "      <td>3.417300e+12</td>\n",
       "      <td>3.542370e+12</td>\n",
       "      <td>3.556720e+12</td>\n",
       "      <td>3.567320e+12</td>\n",
       "      <td>3.624390e+12</td>\n",
       "      <td>3.685560e+12</td>\n",
       "    </tr>\n",
       "    <tr>\n",
       "      <th>India</th>\n",
       "      <td>8</td>\n",
       "      <td>15005</td>\n",
       "      <td>14841</td>\n",
       "      <td>128763</td>\n",
       "      <td>37209</td>\n",
       "      <td>8.58</td>\n",
       "      <td>115</td>\n",
       "      <td>3.319500e+10</td>\n",
       "      <td>26.0</td>\n",
       "      <td>14.969080</td>\n",
       "      <td>1.265890e+12</td>\n",
       "      <td>1.374870e+12</td>\n",
       "      <td>1.428360e+12</td>\n",
       "      <td>1.549480e+12</td>\n",
       "      <td>1.708460e+12</td>\n",
       "      <td>1.821870e+12</td>\n",
       "      <td>1.924240e+12</td>\n",
       "      <td>2.051980e+12</td>\n",
       "      <td>2.200620e+12</td>\n",
       "      <td>2.367210e+12</td>\n",
       "    </tr>\n",
       "    <tr>\n",
       "      <th>France</th>\n",
       "      <td>9</td>\n",
       "      <td>13153</td>\n",
       "      <td>12973</td>\n",
       "      <td>130632</td>\n",
       "      <td>28601</td>\n",
       "      <td>9.93</td>\n",
       "      <td>114</td>\n",
       "      <td>1.059700e+10</td>\n",
       "      <td>166.0</td>\n",
       "      <td>17.020280</td>\n",
       "      <td>2.607840e+12</td>\n",
       "      <td>2.669420e+12</td>\n",
       "      <td>2.674640e+12</td>\n",
       "      <td>2.595970e+12</td>\n",
       "      <td>2.646990e+12</td>\n",
       "      <td>2.702030e+12</td>\n",
       "      <td>2.706970e+12</td>\n",
       "      <td>2.722570e+12</td>\n",
       "      <td>2.729630e+12</td>\n",
       "      <td>2.761190e+12</td>\n",
       "    </tr>\n",
       "    <tr>\n",
       "      <th>South Korea</th>\n",
       "      <td>10</td>\n",
       "      <td>11983</td>\n",
       "      <td>11923</td>\n",
       "      <td>114675</td>\n",
       "      <td>22595</td>\n",
       "      <td>9.57</td>\n",
       "      <td>104</td>\n",
       "      <td>1.100700e+10</td>\n",
       "      <td>221.0</td>\n",
       "      <td>2.279353</td>\n",
       "      <td>9.410200e+11</td>\n",
       "      <td>9.924320e+11</td>\n",
       "      <td>1.020510e+12</td>\n",
       "      <td>1.027730e+12</td>\n",
       "      <td>1.094500e+12</td>\n",
       "      <td>1.134800e+12</td>\n",
       "      <td>1.160810e+12</td>\n",
       "      <td>1.194430e+12</td>\n",
       "      <td>1.234340e+12</td>\n",
       "      <td>1.266580e+12</td>\n",
       "    </tr>\n",
       "    <tr>\n",
       "      <th>Italy</th>\n",
       "      <td>11</td>\n",
       "      <td>10964</td>\n",
       "      <td>10794</td>\n",
       "      <td>111850</td>\n",
       "      <td>26661</td>\n",
       "      <td>10.20</td>\n",
       "      <td>106</td>\n",
       "      <td>6.530000e+09</td>\n",
       "      <td>109.0</td>\n",
       "      <td>33.667230</td>\n",
       "      <td>2.202170e+12</td>\n",
       "      <td>2.234630e+12</td>\n",
       "      <td>2.211150e+12</td>\n",
       "      <td>2.089940e+12</td>\n",
       "      <td>2.125180e+12</td>\n",
       "      <td>2.137440e+12</td>\n",
       "      <td>2.077180e+12</td>\n",
       "      <td>2.040870e+12</td>\n",
       "      <td>2.033870e+12</td>\n",
       "      <td>2.049320e+12</td>\n",
       "    </tr>\n",
       "    <tr>\n",
       "      <th>Spain</th>\n",
       "      <td>12</td>\n",
       "      <td>9428</td>\n",
       "      <td>9330</td>\n",
       "      <td>123336</td>\n",
       "      <td>23964</td>\n",
       "      <td>13.08</td>\n",
       "      <td>115</td>\n",
       "      <td>4.923000e+09</td>\n",
       "      <td>106.0</td>\n",
       "      <td>37.968590</td>\n",
       "      <td>1.414820e+12</td>\n",
       "      <td>1.468150e+12</td>\n",
       "      <td>1.484530e+12</td>\n",
       "      <td>1.431480e+12</td>\n",
       "      <td>1.431670e+12</td>\n",
       "      <td>1.417350e+12</td>\n",
       "      <td>1.380220e+12</td>\n",
       "      <td>1.357140e+12</td>\n",
       "      <td>1.375610e+12</td>\n",
       "      <td>1.419820e+12</td>\n",
       "    </tr>\n",
       "    <tr>\n",
       "      <th>Iran</th>\n",
       "      <td>13</td>\n",
       "      <td>8896</td>\n",
       "      <td>8819</td>\n",
       "      <td>57470</td>\n",
       "      <td>19125</td>\n",
       "      <td>6.46</td>\n",
       "      <td>72</td>\n",
       "      <td>9.172000e+09</td>\n",
       "      <td>119.0</td>\n",
       "      <td>5.707721</td>\n",
       "      <td>3.895520e+11</td>\n",
       "      <td>4.250650e+11</td>\n",
       "      <td>4.289910e+11</td>\n",
       "      <td>4.389210e+11</td>\n",
       "      <td>4.677900e+11</td>\n",
       "      <td>4.853310e+11</td>\n",
       "      <td>4.532570e+11</td>\n",
       "      <td>4.445930e+11</td>\n",
       "      <td>4.639030e+11</td>\n",
       "      <td>NaN</td>\n",
       "    </tr>\n",
       "    <tr>\n",
       "      <th>Australia</th>\n",
       "      <td>14</td>\n",
       "      <td>8831</td>\n",
       "      <td>8725</td>\n",
       "      <td>90765</td>\n",
       "      <td>15606</td>\n",
       "      <td>10.28</td>\n",
       "      <td>107</td>\n",
       "      <td>5.386000e+09</td>\n",
       "      <td>231.0</td>\n",
       "      <td>11.810810</td>\n",
       "      <td>1.021940e+12</td>\n",
       "      <td>1.060340e+12</td>\n",
       "      <td>1.099640e+12</td>\n",
       "      <td>1.119650e+12</td>\n",
       "      <td>1.142250e+12</td>\n",
       "      <td>1.169430e+12</td>\n",
       "      <td>1.211910e+12</td>\n",
       "      <td>1.241480e+12</td>\n",
       "      <td>1.272520e+12</td>\n",
       "      <td>1.301250e+12</td>\n",
       "    </tr>\n",
       "    <tr>\n",
       "      <th>Brazil</th>\n",
       "      <td>15</td>\n",
       "      <td>8668</td>\n",
       "      <td>8596</td>\n",
       "      <td>60702</td>\n",
       "      <td>14396</td>\n",
       "      <td>7.00</td>\n",
       "      <td>86</td>\n",
       "      <td>1.214900e+10</td>\n",
       "      <td>59.0</td>\n",
       "      <td>69.648030</td>\n",
       "      <td>1.845080e+12</td>\n",
       "      <td>1.957120e+12</td>\n",
       "      <td>2.056810e+12</td>\n",
       "      <td>2.054210e+12</td>\n",
       "      <td>2.208870e+12</td>\n",
       "      <td>2.295240e+12</td>\n",
       "      <td>2.339210e+12</td>\n",
       "      <td>2.409740e+12</td>\n",
       "      <td>2.412230e+12</td>\n",
       "      <td>2.319420e+12</td>\n",
       "    </tr>\n",
       "  </tbody>\n",
       "</table>\n",
       "</div>"
      ],
      "text/plain": [
       "                    Rank  Documents  Citable documents  Citations  \\\n",
       "Country                                                             \n",
       "China                  1     127050             126767     597237   \n",
       "United States          2      96661              94747     792274   \n",
       "Japan                  3      30504              30287     223024   \n",
       "United Kingdom         4      20944              20357     206091   \n",
       "Russian Federation     5      18534              18301      34266   \n",
       "Canada                 6      17899              17620     215003   \n",
       "Germany                7      17027              16831     140566   \n",
       "India                  8      15005              14841     128763   \n",
       "France                 9      13153              12973     130632   \n",
       "South Korea           10      11983              11923     114675   \n",
       "Italy                 11      10964              10794     111850   \n",
       "Spain                 12       9428               9330     123336   \n",
       "Iran                  13       8896               8819      57470   \n",
       "Australia             14       8831               8725      90765   \n",
       "Brazil                15       8668               8596      60702   \n",
       "\n",
       "                    Self-citations  Citations per document  H index  \\\n",
       "Country                                                               \n",
       "China                       411683                    4.70      138   \n",
       "United States               265436                    8.20      230   \n",
       "Japan                        61554                    7.31      134   \n",
       "United Kingdom               37874                    9.84      139   \n",
       "Russian Federation           12422                    1.85       57   \n",
       "Canada                       40930                   12.01      149   \n",
       "Germany                      27426                    8.26      126   \n",
       "India                        37209                    8.58      115   \n",
       "France                       28601                    9.93      114   \n",
       "South Korea                  22595                    9.57      104   \n",
       "Italy                        26661                   10.20      106   \n",
       "Spain                        23964                   13.08      115   \n",
       "Iran                         19125                    6.46       72   \n",
       "Australia                    15606                   10.28      107   \n",
       "Brazil                       14396                    7.00       86   \n",
       "\n",
       "                    Energy Supply  Energy Supply per Capita  % Renewable  \\\n",
       "Country                                                                    \n",
       "China                1.271910e+11                      93.0    19.754910   \n",
       "United States        9.083800e+10                     286.0    11.570980   \n",
       "Japan                1.898400e+10                     149.0    10.232820   \n",
       "United Kingdom       7.920000e+09                     124.0    10.600470   \n",
       "Russian Federation   3.070900e+10                     214.0    17.288680   \n",
       "Canada               1.043100e+10                     296.0    61.945430   \n",
       "Germany              1.326100e+10                     165.0    17.901530   \n",
       "India                3.319500e+10                      26.0    14.969080   \n",
       "France               1.059700e+10                     166.0    17.020280   \n",
       "South Korea          1.100700e+10                     221.0     2.279353   \n",
       "Italy                6.530000e+09                     109.0    33.667230   \n",
       "Spain                4.923000e+09                     106.0    37.968590   \n",
       "Iran                 9.172000e+09                     119.0     5.707721   \n",
       "Australia            5.386000e+09                     231.0    11.810810   \n",
       "Brazil               1.214900e+10                      59.0    69.648030   \n",
       "\n",
       "                            2006          2007          2008          2009  \\\n",
       "Country                                                                      \n",
       "China               3.992330e+12  4.559040e+12  4.997780e+12  5.459250e+12   \n",
       "United States       1.479230e+13  1.505540e+13  1.501150e+13  1.459480e+13   \n",
       "Japan               5.496540e+12  5.617040e+12  5.558530e+12  5.251310e+12   \n",
       "United Kingdom      2.419630e+12  2.482200e+12  2.470610e+12  2.367050e+12   \n",
       "Russian Federation  1.385790e+12  1.504070e+12  1.583000e+12  1.459200e+12   \n",
       "Canada              1.564470e+12  1.596740e+12  1.612710e+12  1.565140e+12   \n",
       "Germany             3.332890e+12  3.441560e+12  3.478810e+12  3.283340e+12   \n",
       "India               1.265890e+12  1.374870e+12  1.428360e+12  1.549480e+12   \n",
       "France              2.607840e+12  2.669420e+12  2.674640e+12  2.595970e+12   \n",
       "South Korea         9.410200e+11  9.924320e+11  1.020510e+12  1.027730e+12   \n",
       "Italy               2.202170e+12  2.234630e+12  2.211150e+12  2.089940e+12   \n",
       "Spain               1.414820e+12  1.468150e+12  1.484530e+12  1.431480e+12   \n",
       "Iran                3.895520e+11  4.250650e+11  4.289910e+11  4.389210e+11   \n",
       "Australia           1.021940e+12  1.060340e+12  1.099640e+12  1.119650e+12   \n",
       "Brazil              1.845080e+12  1.957120e+12  2.056810e+12  2.054210e+12   \n",
       "\n",
       "                            2010          2011          2012          2013  \\\n",
       "Country                                                                      \n",
       "China               6.039660e+12  6.612490e+12  7.124980e+12  7.672450e+12   \n",
       "United States       1.496440e+13  1.520400e+13  1.554220e+13  1.577370e+13   \n",
       "Japan               5.498720e+12  5.473740e+12  5.569100e+12  5.644660e+12   \n",
       "United Kingdom      2.403500e+12  2.450910e+12  2.479810e+12  2.533370e+12   \n",
       "Russian Federation  1.524920e+12  1.589940e+12  1.645880e+12  1.666930e+12   \n",
       "Canada              1.613410e+12  1.664090e+12  1.693130e+12  1.730690e+12   \n",
       "Germany             3.417300e+12  3.542370e+12  3.556720e+12  3.567320e+12   \n",
       "India               1.708460e+12  1.821870e+12  1.924240e+12  2.051980e+12   \n",
       "France              2.646990e+12  2.702030e+12  2.706970e+12  2.722570e+12   \n",
       "South Korea         1.094500e+12  1.134800e+12  1.160810e+12  1.194430e+12   \n",
       "Italy               2.125180e+12  2.137440e+12  2.077180e+12  2.040870e+12   \n",
       "Spain               1.431670e+12  1.417350e+12  1.380220e+12  1.357140e+12   \n",
       "Iran                4.677900e+11  4.853310e+11  4.532570e+11  4.445930e+11   \n",
       "Australia           1.142250e+12  1.169430e+12  1.211910e+12  1.241480e+12   \n",
       "Brazil              2.208870e+12  2.295240e+12  2.339210e+12  2.409740e+12   \n",
       "\n",
       "                            2014          2015  \n",
       "Country                                         \n",
       "China               8.230120e+12  8.798000e+12  \n",
       "United States       1.615660e+13  1.654860e+13  \n",
       "Japan               5.642880e+12  5.669560e+12  \n",
       "United Kingdom      2.605640e+12  2.666330e+12  \n",
       "Russian Federation  1.678710e+12  1.616150e+12  \n",
       "Canada              1.773490e+12  1.792610e+12  \n",
       "Germany             3.624390e+12  3.685560e+12  \n",
       "India               2.200620e+12  2.367210e+12  \n",
       "France              2.729630e+12  2.761190e+12  \n",
       "South Korea         1.234340e+12  1.266580e+12  \n",
       "Italy               2.033870e+12  2.049320e+12  \n",
       "Spain               1.375610e+12  1.419820e+12  \n",
       "Iran                4.639030e+11           NaN  \n",
       "Australia           1.272520e+12  1.301250e+12  \n",
       "Brazil              2.412230e+12  2.319420e+12  "
      ]
     },
     "execution_count": 17,
     "metadata": {},
     "output_type": "execute_result"
    }
   ],
   "source": [
    "\n",
    "def convert_missing_number(v):\n",
    "    return np.NaN if type(v) is str and v == '...' else v\n",
    "\n",
    "def convert_energy_supply(v):\n",
    "    return v if np.isnan(v) else v * 1000000\n",
    "\n",
    "def map_country_energy(country):\n",
    "    \n",
    "    if type(country) is not str and np.isnan(country):\n",
    "        return country\n",
    "\n",
    "    mapped_country = country\n",
    "    if 'Republic of Korea' in country and country != \"Democratic People's Republic of Korea\":\n",
    "        mapped_country = 'South Korea'\n",
    "    elif 'Iran (Islamic Republic of)' in country:\n",
    "        mapped_country = 'Iran'\n",
    "    elif 'United States of America' in country:\n",
    "        mapped_country = 'United States'\n",
    "    elif 'United Kingdom of Great Britain and Northern Ireland' in country:\n",
    "        mapped_country = 'United Kingdom'\n",
    "    elif 'China, Hong Kong Special Administrative Region' in country:\n",
    "        mapped_country = 'Hong Kong'\n",
    "    elif 'Bolivia (Plurinational State of)' in country:\n",
    "        mapped_country = 'Bolivia'\n",
    "    else:\n",
    "        matchObj = re.match('^([a-zA-Z ()-,]+)(\\d+)', mapped_country)\n",
    "        if matchObj:\n",
    "            mapped_country = matchObj.group(1)\n",
    "        \n",
    "    return mapped_country\n",
    "\n",
    "def map_country_gdp(country):\n",
    "    \n",
    "    if type(country) is not str and np.isnan(country):\n",
    "        return country\n",
    "\n",
    "    mapped_country = country\n",
    "    if 'Korea, Rep.' in country:\n",
    "        mapped_country = 'South Korea'\n",
    "    elif 'Iran, Islamic Rep.' in country:\n",
    "        mapped_country = 'Iran'\n",
    "    elif 'Hong Kong SAR, China' in country:\n",
    "        mapped_country = 'Hong Kong'\n",
    "        \n",
    "    return mapped_country\n",
    "\n",
    "\n",
    "def load_energy_indicators():\n",
    "    energy = pd.read_excel(open('../resources/Energy Indicators.xls', 'rb'),\n",
    "                           sheet_name='Energy', index_col=None, header=None, skiprows=18, nrows=227)\n",
    "    # set column names\n",
    "    energy.columns = ['Temp.1', 'Temp.2', 'Country', 'Energy Supply', 'Energy Supply per Capita', '% Renewable']\n",
    "    # drop first two columns\n",
    "    energy = energy.drop(['Temp.1', 'Temp.2'], axis=1)\n",
    "    # replace '...' by NaN\n",
    "    energy = energy.applymap(convert_missing_number)\n",
    "    # convert Energy Supply to gigajoules (multiply by 1 000 000)\n",
    "    energy['Energy Supply'] = energy['Energy Supply'].apply(convert_energy_supply)\n",
    "    # map country names\n",
    "    energy['Country'] = energy['Country'].apply(map_country_energy)\n",
    "    return energy\n",
    "\n",
    "def load_gdp():\n",
    "    GBP = pd.read_csv('../resources/world_bank.csv', index_col=None, skiprows=4)\n",
    "    # drop non needed columns\n",
    "    GBP = GBP.drop(['1960', '1961', '1962', '1963', '1964', '1965', '1966', '1967', '1968', '1969',\n",
    "                    '1970', '1971', '1972', '1973', '1974', '1975', '1976', '1977', '1978', '1979',\n",
    "                    '1980', '1981', '1982', '1983', '1984', '1985', '1986', '1987', '1988', '1989',\n",
    "                    '1990', '1991', '1992', '1993', '1994', '1995', '1996', '1997', '1998', '1999',\n",
    "                    '2000', '2001', '2002', '2003', '2004', '2005'], axis=1)\n",
    "    # map country names\n",
    "    GBP['Country Name'] = GBP['Country Name'].apply(map_country_gdp)\n",
    "    GBP = GBP.rename(columns={'Country Name': 'Country'})\n",
    "    return GBP\n",
    "\n",
    "def load_rank():\n",
    "    ScimEn = pd.read_excel(open('../resources/scimagojr-3.xlsx', 'rb'),\n",
    "                           sheet_name='Sheet1', index_col=None, header=0, skiprows=0, nrows=191)\n",
    "    return ScimEn\n",
    "    \n",
    "def answer_one():\n",
    "    energy = load_energy_indicators()\n",
    "    GDP = load_gdp()\n",
    "    ScimEn = load_rank()\n",
    "    \n",
    "    unfiltered_set = pd.merge(energy, GDP, how='inner', left_on='Country', right_on='Country')\n",
    "    unfiltered_set = pd.merge(unfiltered_set, ScimEn, how='inner', left_on='Country', right_on='Country')\n",
    "    # keep only required columns\n",
    "    unfiltered_set = unfiltered_set[['Country', 'Rank', 'Documents', 'Citable documents', 'Citations', 'Self-citations',\n",
    "                   'Citations per document', 'H index', 'Energy Supply', 'Energy Supply per Capita', '% Renewable',\n",
    "                   '2006', '2007', '2008', '2009', '2010', '2011', '2012', '2013', '2014', '2015']]\n",
    "    # set data frame index\n",
    "    unfiltered_set = unfiltered_set.set_index('Country')\n",
    "    # sort and keep only first 15 rows\n",
    "    unfiltered_set = unfiltered_set.sort_values(by=['Rank'])\n",
    "    filtered_set = unfiltered_set.head(15)\n",
    "    return filtered_set\n",
    "\n",
    "answer_one()"
   ]
  },
  {
   "cell_type": "markdown",
   "metadata": {},
   "source": [
    "# Question 2 (6.6%)\n",
    "The previous question joined three datasets then reduced this to just the top 15 entries. When you joined the datasets, but before you reduced this to the top 15 items, how many entries did you lose?\n",
    "\n",
    "*This function should return a single number.*"
   ]
  },
  {
   "cell_type": "code",
   "execution_count": 18,
   "metadata": {
    "collapsed": false,
    "jupyter": {
     "outputs_hidden": false
    }
   },
   "outputs": [
    {
     "data": {
      "text/html": [
       "<svg width=\"800\" height=\"300\">\n",
       "  <circle cx=\"150\" cy=\"180\" r=\"80\" fill-opacity=\"0.2\" stroke=\"black\" stroke-width=\"2\" fill=\"blue\" />\n",
       "  <circle cx=\"200\" cy=\"100\" r=\"80\" fill-opacity=\"0.2\" stroke=\"black\" stroke-width=\"2\" fill=\"red\" />\n",
       "  <circle cx=\"100\" cy=\"100\" r=\"80\" fill-opacity=\"0.2\" stroke=\"black\" stroke-width=\"2\" fill=\"green\" />\n",
       "  <line x1=\"150\" y1=\"125\" x2=\"300\" y2=\"150\" stroke=\"black\" stroke-width=\"2\" fill=\"black\" stroke-dasharray=\"5,3\"/>\n",
       "  <text  x=\"300\" y=\"165\" font-family=\"Verdana\" font-size=\"35\">Everything but this!</text>\n",
       "</svg>\n"
      ],
      "text/plain": [
       "<IPython.core.display.HTML object>"
      ]
     },
     "metadata": {},
     "output_type": "display_data"
    }
   ],
   "source": [
    "%%HTML\n",
    "<svg width=\"800\" height=\"300\">\n",
    "  <circle cx=\"150\" cy=\"180\" r=\"80\" fill-opacity=\"0.2\" stroke=\"black\" stroke-width=\"2\" fill=\"blue\" />\n",
    "  <circle cx=\"200\" cy=\"100\" r=\"80\" fill-opacity=\"0.2\" stroke=\"black\" stroke-width=\"2\" fill=\"red\" />\n",
    "  <circle cx=\"100\" cy=\"100\" r=\"80\" fill-opacity=\"0.2\" stroke=\"black\" stroke-width=\"2\" fill=\"green\" />\n",
    "  <line x1=\"150\" y1=\"125\" x2=\"300\" y2=\"150\" stroke=\"black\" stroke-width=\"2\" fill=\"black\" stroke-dasharray=\"5,3\"/>\n",
    "  <text  x=\"300\" y=\"165\" font-family=\"Verdana\" font-size=\"35\">Everything but this!</text>\n",
    "</svg>"
   ]
  },
  {
   "cell_type": "code",
   "execution_count": 19,
   "metadata": {
    "collapsed": false,
    "jupyter": {
     "outputs_hidden": false
    }
   },
   "outputs": [
    {
     "data": {
      "text/plain": [
       "156"
      ]
     },
     "execution_count": 19,
     "metadata": {},
     "output_type": "execute_result"
    }
   ],
   "source": [
    "def answer_two():\n",
    "    energy = load_energy_indicators()\n",
    "    GDP = load_gdp()\n",
    "    ScimEn = load_rank()\n",
    "    \n",
    "    union = pd.merge(energy, GDP, how='outer', left_on='Country', right_on='Country')\n",
    "    union = pd.merge(union, ScimEn, how='outer', left_on='Country', right_on='Country')\n",
    "    union = union.set_index('Country')\n",
    "\n",
    "    intersection = pd.merge(energy, GDP, how='inner', left_on='Country', right_on='Country')\n",
    "    intersection = pd.merge(intersection, ScimEn, how='inner', left_on='Country', right_on='Country')\n",
    "    intersection = intersection.set_index('Country')\n",
    "\n",
    "    #print(energy.shape)\n",
    "    #print(GDP.shape)\n",
    "    #print(ScimEn.shape)\n",
    "    #print(union.shape)\n",
    "    #print(intersection.shape)\n",
    "    return union.shape[0] - intersection.shape[0]\n",
    "\n",
    "answer_two()"
   ]
  },
  {
   "cell_type": "markdown",
   "metadata": {},
   "source": [
    "<br>\n",
    "\n",
    "Answer the following questions in the context of only the top 15 countries by Scimagojr Rank (aka the DataFrame returned by `answer_one()`)"
   ]
  },
  {
   "cell_type": "markdown",
   "metadata": {},
   "source": [
    "### Question 3 (6.6%)\n",
    "What is the average GDP over the last 10 years for each country? (exclude missing values from this calculation.)\n",
    "\n",
    "*This function should return a Series named `avgGDP` with 15 countries and their average GDP sorted in descending order.*"
   ]
  },
  {
   "cell_type": "code",
   "execution_count": 20,
   "metadata": {
    "collapsed": false,
    "jupyter": {
     "outputs_hidden": false
    },
    "scrolled": true
   },
   "outputs": [
    {
     "data": {
      "text/plain": [
       "Country\n",
       "United States         1.536435e+13\n",
       "China                 6.348610e+12\n",
       "Japan                 5.542208e+12\n",
       "Germany               3.493026e+12\n",
       "France                2.681725e+12\n",
       "United Kingdom        2.487905e+12\n",
       "Brazil                2.189793e+12\n",
       "Italy                 2.120175e+12\n",
       "India                 1.769298e+12\n",
       "Canada                1.660648e+12\n",
       "Russian Federation    1.565459e+12\n",
       "Spain                 1.418079e+12\n",
       "Australia             1.164041e+12\n",
       "South Korea           1.106715e+12\n",
       "Iran                  4.441559e+11\n",
       "Name: avgGDP, dtype: float64"
      ]
     },
     "execution_count": 20,
     "metadata": {},
     "output_type": "execute_result"
    }
   ],
   "source": [
    "def calculate_avg_gdp(row):\n",
    "    years = row[['2006', '2007', '2008', '2009', '2010', '2011', '2012', '2013', '2014', '2015']]\n",
    "    return years.mean()\n",
    "\n",
    "def answer_three():\n",
    "    top15 = answer_one()\n",
    "    top15['AvgGDP'] = pd.Series(np.random.randn(15), index=top15.index)\n",
    "    top15['AvgGDP'] = top15.apply(calculate_avg_gdp, axis=1)\n",
    "    res = top15['AvgGDP']\n",
    "    res = res.rename('avgGDP')\n",
    "    res = res.sort_values(ascending=False)\n",
    "    return res\n",
    "\n",
    "answer_three()"
   ]
  },
  {
   "cell_type": "markdown",
   "metadata": {},
   "source": [
    "### Question 4 (6.6%)\n",
    "By how much had the GDP changed over the 10 year span for the country with the 6th largest average GDP?\n",
    "\n",
    "*This function should return a single number.*"
   ]
  },
  {
   "cell_type": "code",
   "execution_count": 39,
   "metadata": {
    "collapsed": false,
    "jupyter": {
     "outputs_hidden": false
    },
    "scrolled": true
   },
   "outputs": [
    {
     "data": {
      "text/plain": [
       "246700000000.0"
      ]
     },
     "execution_count": 39,
     "metadata": {},
     "output_type": "execute_result"
    }
   ],
   "source": [
    "def answer_four():\n",
    "    top15 = answer_one()\n",
    "    # calculate average GDP\n",
    "    top15['AvgGDP'] = pd.Series(np.random.randn(15), index=top15.index)\n",
    "    top15['AvgGDP'] = top15.apply(calculate_avg_gdp, axis=1)\n",
    "\n",
    "    avgGDP = answer_three()\n",
    "    # country with 6th largest GDP (United Kingdom)\n",
    "    sixthCountry = top15.loc[top15['AvgGDP'] == avgGDP.iloc[5]]\n",
    "    gdpChange = sixthCountry['2015'] - sixthCountry['2006']\n",
    "    return gdpChange[0]\n",
    "\n",
    "answer_four()"
   ]
  },
  {
   "cell_type": "markdown",
   "metadata": {},
   "source": [
    "### Question 5 (6.6%)\n",
    "What is the mean `Energy Supply per Capita`?\n",
    "\n",
    "*This function should return a single number.*"
   ]
  },
  {
   "cell_type": "code",
   "execution_count": 22,
   "metadata": {
    "collapsed": false,
    "jupyter": {
     "outputs_hidden": false
    }
   },
   "outputs": [
    {
     "data": {
      "text/plain": [
       "157.6"
      ]
     },
     "execution_count": 22,
     "metadata": {},
     "output_type": "execute_result"
    }
   ],
   "source": [
    "def answer_five():\n",
    "    top15 = answer_one()\n",
    "    avgSupply = top15['Energy Supply per Capita']\n",
    "    return avgSupply.mean()\n",
    "\n",
    "answer_five()"
   ]
  },
  {
   "cell_type": "markdown",
   "metadata": {},
   "source": [
    "### Question 6 (6.6%)\n",
    "What country has the maximum % Renewable and what is the percentage?\n",
    "\n",
    "*This function should return a tuple with the name of the country and the percentage.*"
   ]
  },
  {
   "cell_type": "code",
   "execution_count": 23,
   "metadata": {
    "collapsed": false,
    "jupyter": {
     "outputs_hidden": false
    }
   },
   "outputs": [
    {
     "data": {
      "text/plain": [
       "('Brazil', 69.64803)"
      ]
     },
     "execution_count": 23,
     "metadata": {},
     "output_type": "execute_result"
    }
   ],
   "source": [
    "def answer_six():\n",
    "    top15 = answer_one()\n",
    "    renewable = top15['% Renewable']\n",
    "    max_renewable_val = renewable.max()\n",
    "    max_renewable_name = renewable.idxmax()\n",
    "    return (max_renewable_name, max_renewable_val)\n",
    "\n",
    "answer_six()"
   ]
  },
  {
   "cell_type": "markdown",
   "metadata": {},
   "source": [
    "### Question 7 (6.6%)\n",
    "Create a new column that is the ratio of Self-Citations to Total Citations. \n",
    "What is the maximum value for this new column, and what country has the highest ratio?\n",
    "\n",
    "*This function should return a tuple with the name of the country and the ratio.*"
   ]
  },
  {
   "cell_type": "code",
   "execution_count": 24,
   "metadata": {
    "collapsed": false,
    "jupyter": {
     "outputs_hidden": false
    }
   },
   "outputs": [
    {
     "data": {
      "text/plain": [
       "('China', 0.6893126179389422)"
      ]
     },
     "execution_count": 24,
     "metadata": {},
     "output_type": "execute_result"
    }
   ],
   "source": [
    "def answer_seven():\n",
    "    top15 = answer_one()\n",
    "    top15['Self-Citations to Total Citations'] = top15['Self-citations'] / top15['Citations']\n",
    "    citations = top15['Self-Citations to Total Citations']\n",
    "    citations_val = citations.max()\n",
    "    citations_name = citations.idxmax()\n",
    "    return (citations_name, citations_val)\n",
    "\n",
    "answer_seven()"
   ]
  },
  {
   "cell_type": "markdown",
   "metadata": {},
   "source": [
    "### Question 8 (6.6%)\n",
    "\n",
    "Create a column that estimates the population using Energy Supply and Energy Supply per capita. \n",
    "What is the third most populous country according to this estimate?\n",
    "\n",
    "*This function should return a single string value.*"
   ]
  },
  {
   "cell_type": "code",
   "execution_count": 25,
   "metadata": {
    "collapsed": false,
    "jupyter": {
     "outputs_hidden": false
    }
   },
   "outputs": [
    {
     "data": {
      "text/plain": [
       "'United States'"
      ]
     },
     "execution_count": 25,
     "metadata": {},
     "output_type": "execute_result"
    }
   ],
   "source": [
    "def answer_eight():\n",
    "    top15 = answer_one()\n",
    "    top15['Population'] = top15['Energy Supply'] / top15['Energy Supply per Capita']\n",
    "    population = top15['Population']\n",
    "    population = population.sort_values(ascending=False)\n",
    "\n",
    "    return population.index[2]\n",
    "\n",
    "answer_eight()"
   ]
  },
  {
   "cell_type": "markdown",
   "metadata": {},
   "source": [
    "### Question 9 (6.6%)\n",
    "Create a column that estimates the number of citable documents per person. \n",
    "What is the correlation between the number of citable documents per capita and the energy supply per capita? Use the `.corr()` method, (Pearson's correlation).\n",
    "\n",
    "*This function should return a single number.*\n",
    "\n",
    "*(Optional: Use the built-in function `plot9()` to visualize the relationship between Energy Supply per Capita vs. Citable docs per Capita)*"
   ]
  },
  {
   "cell_type": "code",
   "execution_count": 26,
   "metadata": {
    "collapsed": false,
    "jupyter": {
     "outputs_hidden": false
    }
   },
   "outputs": [
    {
     "data": {
      "text/plain": [
       "0.7940010435442943"
      ]
     },
     "execution_count": 26,
     "metadata": {},
     "output_type": "execute_result"
    }
   ],
   "source": [
    "def answer_nine():\n",
    "    top15 = answer_one()\n",
    "    top15['Population'] = top15['Energy Supply'] / top15['Energy Supply per Capita']\n",
    "    top15['Citable docs per Capita'] = top15['Citable documents'] / top15['Population']\n",
    "    corr_df = top15[['Citable docs per Capita', 'Energy Supply per Capita']]\n",
    "    corr_df = corr_df.corr()\n",
    "    return corr_df['Citable docs per Capita']['Energy Supply per Capita']\n",
    "\n",
    "answer_nine()"
   ]
  },
  {
   "cell_type": "code",
   "execution_count": 27,
   "metadata": {
    "collapsed": false,
    "jupyter": {
     "outputs_hidden": false
    }
   },
   "outputs": [],
   "source": [
    "def plot9():\n",
    "    import matplotlib as plt\n",
    "    %matplotlib inline\n",
    "    \n",
    "    Top15 = answer_one()\n",
    "    Top15['Population'] = Top15['Energy Supply'] / Top15['Energy Supply per Capita']\n",
    "    Top15['Citable docs per Capita'] = Top15['Citable documents'] / Top15['Population']\n",
    "    Top15.plot(x='Citable docs per Capita', y='Energy Supply per Capita', kind='scatter', xlim=[0, 0.0006])"
   ]
  },
  {
   "cell_type": "code",
   "execution_count": 28,
   "metadata": {
    "collapsed": false,
    "jupyter": {
     "outputs_hidden": false
    }
   },
   "outputs": [
    {
     "data": {
      "image/png": "[encoded data removed]",
      "text/plain": [
       "<Figure size 432x288 with 1 Axes>"
      ]
     },
     "metadata": {
      "needs_background": "light"
     },
     "output_type": "display_data"
    }
   ],
   "source": [
    "plot9()\n",
    "# Be sure to comment out plot9() before submitting the assignment!"
   ]
  },
  {
   "cell_type": "markdown",
   "metadata": {},
   "source": [
    "### Question 10 (6.6%)\n",
    "Create a new column with a 1 if the country's % Renewable value is at or above the median for all countries in the top 15, and a 0 if the country's % Renewable value is below the median.\n",
    "\n",
    "*This function should return a series named `HighRenew` whose index is the country name sorted in ascending order of rank.*"
   ]
  },
  {
   "cell_type": "code",
   "execution_count": 38,
   "metadata": {
    "collapsed": false,
    "jupyter": {
     "outputs_hidden": false
    }
   },
   "outputs": [
    {
     "data": {
      "text/plain": [
       "Country\n",
       "China                 1\n",
       "United States         0\n",
       "Japan                 0\n",
       "United Kingdom        0\n",
       "Russian Federation    1\n",
       "Canada                1\n",
       "Germany               1\n",
       "India                 0\n",
       "France                1\n",
       "South Korea           0\n",
       "Italy                 1\n",
       "Spain                 1\n",
       "Iran                  0\n",
       "Australia             0\n",
       "Brazil                1\n",
       "Name: HighRenew, dtype: int64"
      ]
     },
     "execution_count": 38,
     "metadata": {},
     "output_type": "execute_result"
    }
   ],
   "source": [
    "def calculate_renewable(row, median):\n",
    "    return 1 if row['% Renewable'] >= median else 0\n",
    "    \n",
    "def answer_ten():\n",
    "    top15 = answer_one()\n",
    "    median = top15['% Renewable'].median()\n",
    "    top15['RenewableRank'] = pd.Series([None] * 15, index=top15.index)\n",
    "    # args=(median,) - comma is needed to help pandas to understand that passed argument is tuple of one element\n",
    "    top15['RenewableRank'] = top15.apply(calculate_renewable, axis=1, args=(median,))\n",
    "\n",
    "    renewable = top15['RenewableRank']\n",
    "    renewable = renewable.rename('HighRenew')\n",
    "    return renewable\n",
    "\n",
    "answer_ten()"
   ]
  },
  {
   "cell_type": "markdown",
   "metadata": {},
   "source": [
    "### Question 11 (6.6%)\n",
    "Use the following dictionary to group the Countries by Continent, then create a dateframe that displays the sample size (the number of countries in each continent bin), and the sum, mean, and std deviation for the estimated population of each country.\n",
    "\n",
    "```python\n",
    "ContinentDict  = {'China':'Asia', \n",
    "                  'United States':'North America', \n",
    "                  'Japan':'Asia', \n",
    "                  'United Kingdom':'Europe', \n",
    "                  'Russian Federation':'Europe', \n",
    "                  'Canada':'North America', \n",
    "                  'Germany':'Europe', \n",
    "                  'India':'Asia',\n",
    "                  'France':'Europe', \n",
    "                  'South Korea':'Asia', \n",
    "                  'Italy':'Europe', \n",
    "                  'Spain':'Europe', \n",
    "                  'Iran':'Asia',\n",
    "                  'Australia':'Australia', \n",
    "                  'Brazil':'South America'}\n",
    "```\n",
    "\n",
    "*This function should return a DataFrame with index named Continent `['Asia', 'Australia', 'Europe', 'North America', 'South America']` and columns `['size', 'sum', 'mean', 'std']`*"
   ]
  },
  {
   "cell_type": "code",
   "execution_count": 112,
   "metadata": {
    "collapsed": false,
    "jupyter": {
     "outputs_hidden": false
    }
   },
   "outputs": [
    {
     "data": {
      "text/html": [
       "<div>\n",
       "<style scoped>\n",
       "    .dataframe tbody tr th:only-of-type {\n",
       "        vertical-align: middle;\n",
       "    }\n",
       "\n",
       "    .dataframe tbody tr th {\n",
       "        vertical-align: top;\n",
       "    }\n",
       "\n",
       "    .dataframe thead th {\n",
       "        text-align: right;\n",
       "    }\n",
       "</style>\n",
       "<table border=\"1\" class=\"dataframe\">\n",
       "  <thead>\n",
       "    <tr style=\"text-align: right;\">\n",
       "      <th></th>\n",
       "      <th>size</th>\n",
       "      <th>sum</th>\n",
       "      <th>mean</th>\n",
       "      <th>std</th>\n",
       "    </tr>\n",
       "    <tr>\n",
       "      <th>Continent</th>\n",
       "      <th></th>\n",
       "      <th></th>\n",
       "      <th></th>\n",
       "      <th></th>\n",
       "    </tr>\n",
       "  </thead>\n",
       "  <tbody>\n",
       "    <tr>\n",
       "      <th>Asia</th>\n",
       "      <td>5</td>\n",
       "      <td>2.89867e+09</td>\n",
       "      <td>5.79733e+08</td>\n",
       "      <td>6.79098e+08</td>\n",
       "    </tr>\n",
       "    <tr>\n",
       "      <th>Australia</th>\n",
       "      <td>1</td>\n",
       "      <td>2.3316e+07</td>\n",
       "      <td>2.3316e+07</td>\n",
       "      <td>NaN</td>\n",
       "    </tr>\n",
       "    <tr>\n",
       "      <th>Europe</th>\n",
       "      <td>6</td>\n",
       "      <td>4.5793e+08</td>\n",
       "      <td>7.63216e+07</td>\n",
       "      <td>3.46477e+07</td>\n",
       "    </tr>\n",
       "    <tr>\n",
       "      <th>North America</th>\n",
       "      <td>2</td>\n",
       "      <td>3.52855e+08</td>\n",
       "      <td>1.76428e+08</td>\n",
       "      <td>1.9967e+08</td>\n",
       "    </tr>\n",
       "    <tr>\n",
       "      <th>South America</th>\n",
       "      <td>1</td>\n",
       "      <td>2.05915e+08</td>\n",
       "      <td>2.05915e+08</td>\n",
       "      <td>NaN</td>\n",
       "    </tr>\n",
       "  </tbody>\n",
       "</table>\n",
       "</div>"
      ],
      "text/plain": [
       "              size          sum         mean          std\n",
       "Continent                                                \n",
       "Asia             5  2.89867e+09  5.79733e+08  6.79098e+08\n",
       "Australia        1   2.3316e+07   2.3316e+07          NaN\n",
       "Europe           6   4.5793e+08  7.63216e+07  3.46477e+07\n",
       "North America    2  3.52855e+08  1.76428e+08   1.9967e+08\n",
       "South America    1  2.05915e+08  2.05915e+08          NaN"
      ]
     },
     "execution_count": 112,
     "metadata": {},
     "output_type": "execute_result"
    }
   ],
   "source": [
    "def answer_eleven():\n",
    "    continents_map = {'China':'Asia', \n",
    "                  'United States':'North America', \n",
    "                  'Japan':'Asia', \n",
    "                  'United Kingdom':'Europe', \n",
    "                  'Russian Federation':'Europe', \n",
    "                  'Canada':'North America', \n",
    "                  'Germany':'Europe', \n",
    "                  'India':'Asia',\n",
    "                  'France':'Europe', \n",
    "                  'South Korea':'Asia', \n",
    "                  'Italy':'Europe', \n",
    "                  'Spain':'Europe', \n",
    "                  'Iran':'Asia',\n",
    "                  'Australia':'Australia', \n",
    "                  'Brazil':'South America'}\n",
    "    top15 = answer_one()\n",
    "    top15['Population'] = top15['Energy Supply'] / top15['Energy Supply per Capita']\n",
    "\n",
    "    top15['Continent'] = None\n",
    "    for index, row in top15.iterrows():\n",
    "        top15.loc[index, 'Continent'] = continents_map[index]\n",
    "\n",
    "    grouped = pd.DataFrame(columns=['size', 'sum', 'mean', 'std'])\n",
    "    grouped.index.rename('Continent', inplace=True)\n",
    "\n",
    "    for group, frame in top15.groupby('Continent'):\n",
    "        population = frame['Population']\n",
    "        grouped.loc[group, 'size'] = frame.shape[0]\n",
    "        grouped.loc[group, 'sum'] = population.sum()\n",
    "        grouped.loc[group, 'mean'] = population.mean()\n",
    "        grouped.loc[group, 'std'] = population.std()\n",
    "\n",
    "    return grouped\n",
    "\n",
    "answer_eleven()"
   ]
  },
  {
   "cell_type": "markdown",
   "metadata": {},
   "source": [
    "### Question 12 (6.6%)\n",
    "Cut % Renewable into 5 bins. Group Top15 by the Continent, as well as these new % Renewable bins. How many countries are in each of these groups?\n",
    "\n",
    "*This function should return a __Series__ with a MultiIndex of `Continent`, then the bins for `% Renewable`. Do not include groups with no countries.*"
   ]
  },
  {
   "cell_type": "code",
   "execution_count": 116,
   "metadata": {
    "collapsed": false,
    "jupyter": {
     "outputs_hidden": false
    },
    "scrolled": true
   },
   "outputs": [
    {
     "data": {
      "text/plain": [
       "Continent      bins            \n",
       "Asia           (2.212, 15.753]     4\n",
       "               (15.753, 29.227]    1\n",
       "Australia      (2.212, 15.753]     1\n",
       "Europe         (2.212, 15.753]     1\n",
       "               (15.753, 29.227]    3\n",
       "               (29.227, 42.701]    2\n",
       "North America  (2.212, 15.753]     1\n",
       "               (56.174, 69.648]    1\n",
       "South America  (56.174, 69.648]    1\n",
       "dtype: int64"
      ]
     },
     "execution_count": 116,
     "metadata": {},
     "output_type": "execute_result"
    }
   ],
   "source": [
    "def answer_twelve():\n",
    "    continents_map = {'China':'Asia', \n",
    "                  'United States':'North America', \n",
    "                  'Japan':'Asia', \n",
    "                  'United Kingdom':'Europe', \n",
    "                  'Russian Federation':'Europe', \n",
    "                  'Canada':'North America', \n",
    "                  'Germany':'Europe', \n",
    "                  'India':'Asia',\n",
    "                  'France':'Europe', \n",
    "                  'South Korea':'Asia', \n",
    "                  'Italy':'Europe', \n",
    "                  'Spain':'Europe', \n",
    "                  'Iran':'Asia',\n",
    "                  'Australia':'Australia', \n",
    "                  'Brazil':'South America'}\n",
    "    \n",
    "    top15 = answer_one()\n",
    "    top15['Continent'] = None\n",
    "    for index, row in top15.iterrows():\n",
    "        top15.loc[index, 'Continent'] = continents_map[index]\n",
    "\n",
    "    top15['bins'] = pd.cut(top15['% Renewable'], 5)\n",
    "    res = top15.groupby(['Continent', 'bins']).size()\n",
    "    return res\n",
    "\n",
    "answer_twelve()"
   ]
  },
  {
   "cell_type": "markdown",
   "metadata": {},
   "source": [
    "### Question 13 (6.6%)\n",
    "Convert the Population Estimate series to a string with thousands separator (using commas). Do not round the results.\n",
    "\n",
    "e.g. 317615384.61538464 -> 317,615,384.61538464\n",
    "\n",
    "*This function should return a Series `PopEst` whose index is the country name and whose values are the population estimate string.*"
   ]
  },
  {
   "cell_type": "code",
   "execution_count": 111,
   "metadata": {
    "collapsed": false,
    "jupyter": {
     "outputs_hidden": false
    },
    "scrolled": true
   },
   "outputs": [
    {
     "data": {
      "text/plain": [
       "China                 1,367,645,161.2903225\n",
       "United States          317,615,384.61538464\n",
       "Japan                  127,409,395.97315437\n",
       "United Kingdom         63,870,967.741935484\n",
       "Russian Federation            143,500,000.0\n",
       "Canada                  35,239,864.86486486\n",
       "Germany                 80,369,696.96969697\n",
       "India                 1,276,730,769.2307692\n",
       "France                  63,837,349.39759036\n",
       "South Korea            49,805,429.864253394\n",
       "Italy                  59,908,256.880733944\n",
       "Spain                    46,443,396.2264151\n",
       "Iran                    77,075,630.25210084\n",
       "Australia              23,316,017.316017315\n",
       "Brazil                 205,915,254.23728815\n",
       "Name: PopEst, dtype: object"
      ]
     },
     "execution_count": 111,
     "metadata": {},
     "output_type": "execute_result"
    }
   ],
   "source": [
    "def answer_thirteen():\n",
    "    top15 = answer_one()\n",
    "    top15['Population'] = top15['Energy Supply'] / top15['Energy Supply per Capita']\n",
    "\n",
    "    pop_str = pd.Series([], name = 'PopEst')\n",
    "    for index, val in top15['Population'].items():\n",
    "        pop_str[index] = '{val:,}'.format(val=val)\n",
    "    return pop_str\n",
    "\n",
    "answer_thirteen()"
   ]
  },
  {
   "cell_type": "markdown",
   "metadata": {},
   "source": [
    "### Optional\n",
    "\n",
    "Use the built in function `plot_optional()` to see an example visualization."
   ]
  },
  {
   "cell_type": "code",
   "execution_count": 109,
   "metadata": {
    "collapsed": false,
    "jupyter": {
     "outputs_hidden": false
    },
    "scrolled": true
   },
   "outputs": [],
   "source": [
    "def plot_optional():\n",
    "    import matplotlib as plt\n",
    "    %matplotlib inline\n",
    "    Top15 = answer_one()\n",
    "    ax = Top15.plot(x='Rank', y='% Renewable', kind='scatter', \n",
    "                    c=['#e41a1c','#377eb8','#e41a1c','#4daf4a','#4daf4a','#377eb8','#4daf4a','#e41a1c',\n",
    "                       '#4daf4a','#e41a1c','#4daf4a','#4daf4a','#e41a1c','#dede00','#ff7f00'], \n",
    "                    xticks=range(1,16), s=6*Top15['2014']/10**10, alpha=.75, figsize=[16,6]);\n",
    "\n",
    "    for i, txt in enumerate(Top15.index):\n",
    "        ax.annotate(txt, [Top15['Rank'][i], Top15['% Renewable'][i]], ha='center')\n",
    "\n",
    "    print(\"This is an example of a visualization that can be created to help understand the data. \\\n",
    "This is a bubble chart showing % Renewable vs. Rank. The size of the bubble corresponds to the countries' \\\n",
    "2014 GDP, and the color corresponds to the continent.\")"
   ]
  },
  {
   "cell_type": "code",
   "execution_count": 110,
   "metadata": {
    "collapsed": false,
    "jupyter": {
     "outputs_hidden": false
    }
   },
   "outputs": [
    {
     "name": "stdout",
     "output_type": "stream",
     "text": [
      "This is an example of a visualization that can be created to help understand the data. This is a bubble chart showing % Renewable vs. Rank. The size of the bubble corresponds to the countries' 2014 GDP, and the color corresponds to the continent.\n"
     ]
    },
    {
     "data": {
      "image/png": "[encoded data removed]",
      "text/plain": [
       "<Figure size 1152x432 with 1 Axes>"
      ]
     },
     "metadata": {
      "needs_background": "light"
     },
     "output_type": "display_data"
    }
   ],
   "source": [
    "plot_optional()\n",
    "#Be sure to comment out plot_optional() before submitting the assignment!"
   ]
  },
  {
   "cell_type": "code",
   "execution_count": null,
   "metadata": {},
   "outputs": [],
   "source": []
  }
 ],
 "metadata": {
  "anaconda-cloud": {},
  "coursera": {
   "course_slug": "python-data-analysis",
   "graded_item_id": "zAr06",
   "launcher_item_id": "KSSjT",
   "part_id": "SL3fU"
  },
  "kernelspec": {
   "display_name": "Python 3",
   "language": "python",
   "name": "python3"
  },
  "language_info": {
   "codemirror_mode": {
    "name": "ipython",
    "version": 3
   },
   "file_extension": ".py",
   "mimetype": "text/x-python",
   "name": "python",
   "nbconvert_exporter": "python",
   "pygments_lexer": "ipython3",
   "version": "3.7.4"
  }
 },
 "nbformat": 4,
 "nbformat_minor": 4
}
